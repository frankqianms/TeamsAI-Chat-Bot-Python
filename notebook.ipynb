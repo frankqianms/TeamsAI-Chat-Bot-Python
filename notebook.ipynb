{
 "cells": [
  {
   "cell_type": "markdown",
   "metadata": {},
   "source": [
    "First, we need to import related packages"
   ]
  },
  {
   "cell_type": "code",
   "execution_count": 101,
   "metadata": {},
   "outputs": [],
   "source": [
    "# Import necessary libraries\n",
    "from botbuilder.schema import Activity\n",
    "from flask import Flask, request, jsonify\n",
    "from botbuilder.core import BotFrameworkAdapterSettings, TurnContext\n",
    "from teams import Application, ApplicationOptions, TurnState\n",
    "import sys\n",
    "import traceback\n",
    "import os\n"
   ]
  },
  {
   "cell_type": "markdown",
   "metadata": {},
   "source": [
    "> You can find the following code in `config.py`\n",
    "\n",
    "Then we can initialize three constants. **Config** is from config.py, containing `port`, `app_id` and `app_password`."
   ]
  },
  {
   "cell_type": "code",
   "execution_count": 102,
   "metadata": {},
   "outputs": [],
   "source": [
    "# Create the bot application\n",
    "class Config:\n",
    "    \"\"\"Bot Configuration\"\"\"\n",
    "    port = 3978\n",
    "    app_id = os.environ.get(\"BOT_ID\", \"\")\n",
    "    app_password = os.environ.get(\"BOT_PASSWORD\", \"\")"
   ]
  },
  {
   "cell_type": "markdown",
   "metadata": {},
   "source": [
    "Now we will define a bot **app** using a 'BotFrameworkAdapterSettings' with `config.app_id` and `config.app_password` as a `BotFrameworkAdapterSettings` auth setting."
   ]
  },
  {
   "cell_type": "code",
   "execution_count": null,
   "metadata": {},
   "outputs": [],
   "source": [
    "\n",
    "config = Config()\n",
    "app = Application[TurnState](\n",
    "    ApplicationOptions(\n",
    "        bot_app_id=config.app_id,\n",
    "        auth=BotFrameworkAdapterSettings(\n",
    "            app_id=config.app_id,\n",
    "            app_password=config.app_password,\n",
    "        ),\n",
    "    )\n",
    ")"
   ]
  },
  {
   "cell_type": "markdown",
   "metadata": {},
   "source": [
    "Then we can define `on_message()` message handler of **app** now."
   ]
  },
  {
   "cell_type": "code",
   "execution_count": 58,
   "metadata": {},
   "outputs": [],
   "source": [
    "\n",
    "# Define the message handler\n",
    "@app.activity(\"message\")\n",
    "async def on_message(context: TurnContext, _state: TurnState):\n",
    "    await context.send_activity(f\"you said: {context.activity.text}\")\n",
    "    print(f\"you said: {context.activity.text}\")\n",
    "    return True\n",
    "\n",
    "@app.activity(\"no_mes\")\n",
    "async def on_no_message(context: TurnContext, _state: TurnState):\n",
    "    await context.send_activity(f\"you said: no message\")\n",
    "    print(f\"you said: no message\")\n",
    "    return True\n",
    "\n",
    "# Define the error handler\n",
    "@app.error\n",
    "async def on_error(context: TurnContext, error: Exception):\n",
    "    # This check writes out errors to console log .vs. app insights.\n",
    "    # NOTE: In production environment, you should consider logging this to Azure\n",
    "    #       application insights.\n",
    "    print(f\"\\n [on_turn_error] unhandled error: {error}\", file=sys.stderr)\n",
    "    traceback.print_exc()\n",
    "\n",
    "    # Send a message to the user\n",
    "    await context.send_activity(\"The bot encountered an error or bug.\")\n"
   ]
  },
  {
   "cell_type": "markdown",
   "metadata": {},
   "source": [
    "The provided test case is testing the `on_message()` function. The purpose of this test case is to verify the behavior of the `on_message()` function when it receives a user message. It ensures that the function correctly processes the message and sends a response activity with the appropriate content.\n",
    "\n",
    "If the `on_message()` works correctly, it will prints the string `\"you said: Hello, test message!\"`."
   ]
  },
  {
   "cell_type": "code",
   "execution_count": null,
   "metadata": {},
   "outputs": [],
   "source": [
    "from botbuilder.core import TurnContext\n",
    "from unittest.mock import MagicMock\n",
    "\n",
    "async def test_on_message():\n",
    "    # Mock the content of the context object\n",
    "    context = MagicMock(spec=TurnContext)\n",
    "    context.activity.channel_id = \"mock_channel\"\n",
    "    context.activity.from_property.id = \"mock_user\"\n",
    "\n",
    "    # Set the activity properties\n",
    "    context.activity.text = \"Hello, test messages!!\"\n",
    "\n",
    "    # Call the on_message() function\n",
    "    await on_message(context, None)\n",
    "\n",
    "# Call the test function\n",
    "await test_on_message()"
   ]
  },
  {
   "cell_type": "code",
   "execution_count": 105,
   "metadata": {},
   "outputs": [],
   "source": [
    "# Define the Flask API\n",
    "api = Flask(__name__)\n",
    "# Define the route for receiving messages\n",
    "@api.route('/api/messages', methods=['POST'])\n",
    "async def on_messages():\n",
    "    print(\"in on_messages\")\n",
    "    activity = Activity().deserialize(request.json)\n",
    "\n",
    "    auth_header = request.headers['Authorization'] if 'Authorization' in request.headers else ''\n",
    "    response = await app.process_activity(activity, auth_header)\n",
    "    \n",
    "    if response:\n",
    "        return jsonify(response.body), response.status\n",
    "    return '', 200"
   ]
  },
  {
   "cell_type": "code",
   "execution_count": null,
   "metadata": {},
   "outputs": [],
   "source": [
    "\n",
    "# Run the Flask API\n",
    "if __name__ == \"__main__\":\n",
    "    try:\n",
    "        api.run(host='localhost', port=config.port)\n",
    "    except Exception as error:\n",
    "        raise error"
   ]
  }
 ],
 "metadata": {
  "kernelspec": {
   "display_name": ".venv",
   "language": "python",
   "name": "python3"
  },
  "language_info": {
   "codemirror_mode": {
    "name": "ipython",
    "version": 3
   },
   "file_extension": ".py",
   "mimetype": "text/x-python",
   "name": "python",
   "nbconvert_exporter": "python",
   "pygments_lexer": "ipython3",
   "version": "3.11.6"
  },
  "orig_nbformat": 4
 },
 "nbformat": 4,
 "nbformat_minor": 2
}
