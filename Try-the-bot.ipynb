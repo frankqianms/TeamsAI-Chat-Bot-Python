{
 "cells": [
  {
   "cell_type": "markdown",
   "metadata": {},
   "source": [
    "First, we import all modules and resources from source folder `src/`."
   ]
  },
  {
   "cell_type": "code",
   "execution_count": 7,
   "metadata": {},
   "outputs": [],
   "source": [
    "# import modules from src\n",
    "# import src.config as config\n",
    "from src.bot import *\n",
    "from src.api import *"
   ]
  },
  {
   "cell_type": "markdown",
   "metadata": {},
   "source": [
    "Then you can test any functions you want. For example, we make an test case to test `on_message()` activity handler."
   ]
  },
  {
   "cell_type": "code",
   "execution_count": 4,
   "metadata": {},
   "outputs": [
    {
     "name": "stdout",
     "output_type": "stream",
     "text": [
      "[mocked] you said: Hello, test messages!!\n",
      "Exception:  object NoneType can't be used in 'await' expression\n"
     ]
    }
   ],
   "source": [
    "\n",
    "## Test the bot activity on_message()\n",
    "\n",
    "from botbuilder.core import TurnContext\n",
    "from unittest.mock import MagicMock, patch\n",
    "\n",
    "def mock_send_activity(message):\n",
    "    print(\"[mocked]\", message)\n",
    "\n",
    "async def test_on_message():\n",
    "    # Mock the content of the context object\n",
    "    context = MagicMock(spec=TurnContext)\n",
    "    context.activity.channel_id = \"mock_channel\"\n",
    "    context.activity.from_property.id = \"mock_user\"\n",
    "\n",
    "    # Set the activity properties\n",
    "    context.activity.text = \"Hello, test messages!!\"\n",
    "    \n",
    "    context.send_activity = MagicMock(side_effect=mock_send_activity)\n",
    "\n",
    "    try:\n",
    "        # Call the on_message() function\n",
    "        await on_message(context, None)\n",
    "    except Exception as e:\n",
    "        print(\"Exception: \", e)\n",
    "    \n",
    "\n",
    "# Call the test function\n",
    "await test_on_message()"
   ]
  }
 ],
 "metadata": {
  "kernelspec": {
   "display_name": ".venv",
   "language": "python",
   "name": "python3"
  },
  "language_info": {
   "codemirror_mode": {
    "name": "ipython",
    "version": 3
   },
   "file_extension": ".py",
   "mimetype": "text/x-python",
   "name": "python",
   "nbconvert_exporter": "python",
   "pygments_lexer": "ipython3",
   "version": "3.11.6"
  },
  "orig_nbformat": 4
 },
 "nbformat": 4,
 "nbformat_minor": 2
}
