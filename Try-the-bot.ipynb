{
 "cells": [
  {
   "cell_type": "markdown",
   "metadata": {},
   "source": [
    "First, we import all modules and resources from source folder `src/`."
   ]
  },
  {
   "cell_type": "code",
   "execution_count": null,
   "metadata": {},
   "outputs": [],
   "source": [
    "# import modules from src\n",
    "import src.config as config\n",
    "from src.bot import *\n",
    "from src.api import *"
   ]
  },
  {
   "cell_type": "markdown",
   "metadata": {},
   "source": [
    "Then you can test any functions you want. For example, we make an test case to test `on_message()` activity handler."
   ]
  },
  {
   "cell_type": "code",
   "execution_count": null,
   "metadata": {},
   "outputs": [],
   "source": [
    "\n",
    "# ## Test the bot activity on_message()\n",
    "\n",
    "# from botbuilder.core import TurnContext\n",
    "# from unittest.mock import MagicMock, patch\n",
    "\n",
    "# def mock_send_activity(message):\n",
    "#     print(\"[mocked]\", message)\n",
    "\n",
    "# async def test_on_message():\n",
    "#     # Mock the content of the context object\n",
    "#     context = MagicMock(spec=TurnContext)\n",
    "#     context.activity.channel_id = \"mock_channel\"\n",
    "#     context.activity.from_property.id = \"mock_user\"\n",
    "\n",
    "#     # Set the activity properties\n",
    "#     context.activity.text = \"Hello, test messages!!\"\n",
    "    \n",
    "#     context.send_activity = MagicMock(side_effect=mock_send_activity)\n",
    "\n",
    "#     try:\n",
    "#         # Call the on_message() function\n",
    "#         await on_message(context, None)\n",
    "#     except Exception as e:\n",
    "#         print(\"Exception: \", e)\n",
    "    \n",
    "\n",
    "# # Call the test function\n",
    "# await test_on_message()"
   ]
  },
  {
   "cell_type": "markdown",
   "metadata": {},
   "source": [
    "There are lot's of functions you can add to this basic echo bot."
   ]
  },
  {
   "cell_type": "code",
   "execution_count": null,
   "metadata": {},
   "outputs": [],
   "source": [
    "# Add planner\n",
    "from dataclasses import field\n",
    "from teams import AIHistoryOptions, AIOptions, AzureOpenAIPlanner, AzureOpenAIPlannerOptions, ConversationHistory, ConversationState, TempState, UserState, prompt_template, prompt_manager\n",
    "from botbuilder.core import MemoryStorage\n",
    "from botbuilder.schema import Activity, ActivityTypes, ChannelAccount, ConversationAccount\n",
    "from unittest.mock import MagicMock \n",
    "config.AZURE_OPENAI_KEY = 'b9e28116eeff4b129db5155fd261a541' # Azure OpenAI API key\n",
    "config.AZURE_OPENAI_MODEL_DEPLOYMENT_NAME = 'gpt-35-turbo-zihch' # Azure OpenAI model deployment name\n",
    "config.AZURE_OPENAI_ENDPOINT = 'https://azure-openai-zihch.openai.azure.com/' # Azure OpenAI endpoint\n",
    "planner = AzureOpenAIPlanner(\n",
    "    AzureOpenAIPlannerOptions(\n",
    "        config.AZURE_OPENAI_KEY,\n",
    "        config.AZURE_OPENAI_MODEL_DEPLOYMENT_NAME,\n",
    "        config.AZURE_OPENAI_ENDPOINT,\n",
    "        prompt_folder=\"src/prompts\",\n",
    "    )\n",
    ")\n",
    "\n",
    "# mock the TurnContext object\n",
    "context=MagicMock(spec=TurnContext)\n",
    "\n",
    "# mock the TurnState object\n",
    "temp=TempState(input='hi', history='', output='')\n",
    "user=UserState(__key__='mock_key', channel=ChannelAccount())\n",
    "conversation=ConversationState(\n",
    "    __key__='mock_key',\n",
    "    account=ConversationAccount(),\n",
    "    channel=ChannelAccount(),\n",
    "    history=ConversationHistory()\n",
    ")\n",
    "state=TurnState(\n",
    "    temp=temp,\n",
    "    user=user,\n",
    "    conversation=conversation\n",
    ")\n",
    "\n",
    "# render prompt\n",
    "prompt=\"chat\"\n",
    "prompt_templates = await planner._prompt_manager.render_prompt(context, state, prompt)\n",
    "print(f\"prompt_templates:\\n{prompt_templates}\")\n",
    "\n",
    "# generate plan\n",
    "plan = await planner.generate_plan(\n",
    "    context, state, prompt, history_options=AIHistoryOptions(assistant_history_type=\"text\")\n",
    ")\n",
    "\n",
    "print(f\"plan:\\n{plan}\")\n",
    "\n",
    "app = Application[TurnState]( \n",
    "    ApplicationOptions(\n",
    "        auth=BotFrameworkAdapterSettings(\n",
    "            app_id=config.app_id,\n",
    "            app_password=config.app_password\n",
    "        ),\n",
    "        ai=AIOptions(\n",
    "            planner=planner,\n",
    "        ),\n",
    "        storage=MemoryStorage()\n",
    "    )\n",
    ")\n",
    "\n"
   ]
  }
 ],
 "metadata": {
  "kernelspec": {
   "display_name": ".venv",
   "language": "python",
   "name": "python3"
  },
  "language_info": {
   "codemirror_mode": {
    "name": "ipython",
    "version": 3
   },
   "file_extension": ".py",
   "mimetype": "text/x-python",
   "name": "python",
   "nbconvert_exporter": "python",
   "pygments_lexer": "ipython3",
   "version": "3.11.6"
  },
  "orig_nbformat": 4
 },
 "nbformat": 4,
 "nbformat_minor": 2
}
